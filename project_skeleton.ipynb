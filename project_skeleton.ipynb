{
 "cells": [
  {
   "cell_type": "markdown",
   "metadata": {},
   "source": [
    "# GEOL 3910: draft lesson plan\n",
    "Authors: Amanda Alexander, Tristan Caro, Kevin Rozmiarek\n",
    "\n",
    "Due for GEOL 5042 October 30, 2020"
   ]
  },
  {
   "cell_type": "markdown",
   "metadata": {},
   "source": [
    "## Outline + breakdown of tasks:\n",
    "1. Introduce concept topic: stable isotope fractionation [**Tristan**]\n",
    "2. Read in data and plot [**Tristan**]\n",
    "3. Use least-squares method to derive fitting function [**Amanda**]\n",
    "4. Use scipy to get fitting function [**Kevin**]\n",
    "5. Add noise and compare with noise in fitting function [**Amanda**]\n",
    "6. Discuss uncertainty [**Kevin**]\n",
    "7. Discuss anthropogenic causes of carbon emissions based on stable isotope fractionation measurements [**Kevin**]"
   ]
  },
  {
   "cell_type": "markdown",
   "metadata": {},
   "source": [
    "### Learning Goals\n",
    "1. numpy arrays v pandas dataframes\n",
    "2. import and use of scipy\n",
    "3. fitting functions for datasets with least-squares method\n",
    "4. describe origins and impacts of uncertainty\n",
    "5. describe anthropogenic causes of incresed carbon emissions"
   ]
  },
  {
   "cell_type": "markdown",
   "metadata": {},
   "source": [
    "## 1. Stable Isotope Fractionation"
   ]
  },
  {
   "cell_type": "markdown",
   "metadata": {},
   "source": [
    "### 1.1 Background\n",
    "All elements consist of protons, neutrons, and electrons. Elements are defined by their *atomic number*, the number of protons contained within their nucleus, such as Oxygen, whose atomic number is **8**. Often, elements can exist with the same atomic number, but a different number of neutrons. An atom with the same atomic number, but a differing number of neutrons, is defined as an **isotope**. Often, isotopes are radioactive and cause atomic decay. Carbon 14 $^{14}C$, for example, is Carbon 12 with two extra neutrons, leading it to have an atomic mass of 14. $^{14}C$ is radioactive and decays into Nitrogen 14 via [Beta Decay](https://www.esrl.noaa.gov/gmd/ccgg/isotopes/decay.html#:~:text=C%20decays%20by%20a%20process,rather%20than%20a%20carbon%20atom.). Atoms with differing numbers of neutrons that are *not* radioactive are called stable isotopes. $^{13}C$, for example, is a stable isotope of carbon.\n",
    "\n",
    "Because stable isotopes of a given element have differing weights, they are often termed \"light\" or \"heavy.\" This weight difference is often small (just the weight of one or two neutrons), but can be significant enough to cause changes in the reaction characteristics of molecules, especially when a reaction is mediated by biological enzymes. These differing reaction rates often lead to one isotope being preferentially reacted when compared to the other - this is known as **stable isotope fractionation**. Often times, but not always, biological systems \"prefer\" the light isotope of a given element, due to it having faster reaction kinetics than its heavy counterpart. In shorthand, scientists will often say \"life prefers light.\" The result of this is that one can often search for the source of a compound of interest by looking at its isotopic composition *i.e.* does the isotopic composition of our compound of interest match that of a biological system or that of an abiotic reaction?\n",
    "\n",
    "### Commonly Studied Stable Isotopes\n",
    "A few commonly studied stable isotopes in biogeochemical systems are:\n",
    "- $^2H$ : Deuterium, stable isotope of Hydrogen $^1H$\n",
    "- $^{13}C$ : Carbon 13, stable isotope of Carbon $^{12}C$\n",
    "- $^{15}N$ : Nitrogen 15, stable isotope of Nitrogen $^{14}N$\n",
    "- $^{17}O$ : Oxygen 17, stable isotope of Oxygen $^{16}O$\n",
    "- $^{18}O$ : Oxygen 18, stable isotope of Oxygen  $^{16}O$\n",
    "\n",
    "### Delta Notation\n",
    "Stable isotope fractionation is often written out using \"delta\" ($\\delta$) notation. Delta notation is a ratio of ratios, where the ratios are those of one isotope to another. In other words:\n",
    "\n",
    "$$\n",
    "\\delta = \\frac{R_{sample} - R_{standard}}{R_{standard}}\n",
    "$$\n",
    "\n",
    "where $R_{sample}$ is the isotope ratio of the sample and  $R_{standard}$ is the isotope ratio of an international standard. In the case of Carbon, a common international standard is VPDB (Vienna Pee Dee Belemnite).\n",
    "\n",
    "Delta notation is often expressed in \"permil\" $\\textperthousand$. Similar to percent, delta values can be converted to permil by multiplying by 1000.\n",
    "\n",
    "$$\n",
    "\\delta = \\frac{R_{sample} - R_{standard}}{R_{standard}} * 1000\n",
    "$$"
   ]
  },
  {
   "cell_type": "markdown",
   "metadata": {},
   "source": [
    "### 1.2 Concept questions\n",
    "1. Hydrogen isotopes $^1H$ and $^2H$ often fractionate more strongly in biological systems than those of Carbon $^{12}C$ and $^{13}C$. Why do you suspect this is the case?\n",
    "\n",
    "2. Consider the made-up element *Bozium* that has two isotopes of heavy and light. What is the delta value of a sample whose istotope ratio (heavy/light) is .25, compared to an international Bozium standard that has an isotope ratio of .1?"
   ]
  },
  {
   "cell_type": "markdown",
   "metadata": {},
   "source": []
  },
  {
   "cell_type": "markdown",
   "metadata": {},
   "source": [
    "## 2. Data Structures and Visualization\n",
    "\n",
    "We will be using python to read, modify, and visualize our data."
   ]
  },
  {
   "cell_type": "markdown",
   "metadata": {},
   "source": [
    "### 2.1 Background\n",
    "There are three packages, or libraries, that are important for data analysis in python. These are \"numpy\", \"pandas\", and \"matplotlib\".\n",
    "\n",
    "You can import these into a python script using the following commands:"
   ]
  },
  {
   "cell_type": "code",
   "execution_count": 20,
   "metadata": {},
   "outputs": [],
   "source": [
    "import numpy as np\n",
    "import pandas as pd\n",
    "import matplotlib as plt"
   ]
  },
  {
   "cell_type": "markdown",
   "metadata": {},
   "source": [
    "pd, np, and plt are shorthand that allow us to call functions from these packages without referring to their full names."
   ]
  },
  {
   "cell_type": "markdown",
   "metadata": {},
   "source": [
    "### 2.2 Example\n",
    "For brevity, we will only go through basic Pandas and Matplotlib syntax. For a more in-depth discussion on numpy, pandas, and matplotlib:\n",
    "Numpy: https://numpy.org/devdocs/user/quickstart.html\n",
    "Pandas: https://pandas.pydata.org/pandas-docs/stable/user_guide/10min.html\n",
    "Matplotlib: https://matplotlib.org/tutorials/introductory/pyplot.html"
   ]
  },
  {
   "cell_type": "markdown",
   "metadata": {},
   "source": [
    "#### Pandas\n",
    "There are two main components of data in the `pandas` universe: series and Data Frames. A series is a list of numbers -- like a column. A Data Frame is multiple series, a collection of columns.\n",
    "\n",
    "For example, we can define some data using a python dictionary:"
   ]
  },
  {
   "cell_type": "code",
   "execution_count": 26,
   "metadata": {},
   "outputs": [],
   "source": [
    "data = {\n",
    "        'customer': [1,2,3,4],\n",
    "        'bananas': [5,12,2,4],\n",
    "        'pears': [5,6,7,8]\n",
    "}"
   ]
  },
  {
   "cell_type": "markdown",
   "metadata": {},
   "source": [
    "And tell pandas to turn it into a `DataFrame`:"
   ]
  },
  {
   "cell_type": "code",
   "execution_count": 27,
   "metadata": {},
   "outputs": [
    {
     "data": {
      "text/html": [
       "<div>\n",
       "<style scoped>\n",
       "    .dataframe tbody tr th:only-of-type {\n",
       "        vertical-align: middle;\n",
       "    }\n",
       "\n",
       "    .dataframe tbody tr th {\n",
       "        vertical-align: top;\n",
       "    }\n",
       "\n",
       "    .dataframe thead th {\n",
       "        text-align: right;\n",
       "    }\n",
       "</style>\n",
       "<table border=\"1\" class=\"dataframe\">\n",
       "  <thead>\n",
       "    <tr style=\"text-align: right;\">\n",
       "      <th></th>\n",
       "      <th>customer</th>\n",
       "      <th>bananas</th>\n",
       "      <th>pears</th>\n",
       "    </tr>\n",
       "  </thead>\n",
       "  <tbody>\n",
       "    <tr>\n",
       "      <th>0</th>\n",
       "      <td>1</td>\n",
       "      <td>5</td>\n",
       "      <td>5</td>\n",
       "    </tr>\n",
       "    <tr>\n",
       "      <th>1</th>\n",
       "      <td>2</td>\n",
       "      <td>12</td>\n",
       "      <td>6</td>\n",
       "    </tr>\n",
       "    <tr>\n",
       "      <th>2</th>\n",
       "      <td>3</td>\n",
       "      <td>2</td>\n",
       "      <td>7</td>\n",
       "    </tr>\n",
       "    <tr>\n",
       "      <th>3</th>\n",
       "      <td>4</td>\n",
       "      <td>4</td>\n",
       "      <td>8</td>\n",
       "    </tr>\n",
       "  </tbody>\n",
       "</table>\n",
       "</div>"
      ],
      "text/plain": [
       "   customer  bananas  pears\n",
       "0         1        5      5\n",
       "1         2       12      6\n",
       "2         3        2      7\n",
       "3         4        4      8"
      ]
     },
     "execution_count": 27,
     "metadata": {},
     "output_type": "execute_result"
    }
   ],
   "source": [
    "inventory = pd.DataFrame(data)\n",
    "inventory"
   ]
  },
  {
   "cell_type": "markdown",
   "metadata": {},
   "source": [
    "The leftmost column is the index, and the two series we defined above are placed side-by-side.\n",
    "\n",
    "We can now plot this data using matplotlib. Matplotlib can plot directly from pandas dataframes as follows:"
   ]
  },
  {
   "cell_type": "code",
   "execution_count": 29,
   "metadata": {},
   "outputs": [
    {
     "data": {
      "text/plain": [
       "<matplotlib.axes._subplots.AxesSubplot at 0x116f43f10>"
      ]
     },
     "execution_count": 29,
     "metadata": {},
     "output_type": "execute_result"
    },
    {
     "data": {
      "image/png": "[encoded data removed]",
      "text/plain": [
       "<Figure size 432x288 with 1 Axes>"
      ]
     },
     "metadata": {
      "needs_background": "light"
     },
     "output_type": "display_data"
    }
   ],
   "source": [
    "inventory.plot(kind = 'scatter', x = 'customer', y = 'bananas')"
   ]
  },
  {
   "cell_type": "markdown",
   "metadata": {},
   "source": [
    "### 2.3 Practice Questions \n"
   ]
  },
  {
   "cell_type": "markdown",
   "metadata": {},
   "source": [
    "1. Using a python dictionary, write the temperature forecast for every day next week. HINT: Days of the week should be written as strings in quotes, within a python list e.g. `[\"Monday\", \"Tuesday\", ...]`\n",
    "\n",
    "2. Plot the forecast as a scatterplot using matplotlib"
   ]
  },
  {
   "cell_type": "markdown",
   "metadata": {},
   "source": [
    "## 3. Least Squares"
   ]
  },
  {
   "cell_type": "markdown",
   "metadata": {},
   "source": [
    "### 3.1 Background"
   ]
  },
  {
   "cell_type": "markdown",
   "metadata": {},
   "source": [
    "**Submitted by Amanda**\n",
    "\n",
    "Consider the data that you read in and plotted in the previous section. You could probably imagine drawing a line by eye through the majority of the points. But it is more accurate to calculate the line of best fit using the least squares method. The least squares regression method is an important application for fitting data. In this exercise, we will focus on the linear least squares. \n",
    "\n",
    "Recall the equation of a line:\n",
    "$$y = mx+b$$\n",
    "where $y$ is the dependent variable, $m$ is the slope, $x$ is the independent variable and $b$ is the y-intercept.\n",
    "\n",
    "Now we want to compute the line that fits our data via the following steps:\n",
    "\n",
    "1. For each (x,y) point calculate x2 and xy\n",
    "\n",
    "2. Sum all x, y, x2 and xy ($\\sum(x)$, $\\sum(y)$, $\\sum(xy)$ and $\\sum(x^2)$)\n",
    "\n",
    "3. Calculate Slope (m) as the following:\n",
    "\n",
    "$$m = \\frac{N\\sum{(xy)} − \\sum{x}\\sum{y}}{N \\sum{(x^2)} − (\\sum{x^{2}})}$$\n",
    "\n",
    "(Note: **N** is the number of points.)\n",
    "\n",
    "4. Calculate the y-intercept (b):\n",
    "\n",
    "$$b = \\frac{\\sum{y} − m\\sum{x}}{N}$$\n",
    "\n",
    "5. Assemble the equation of a line\n",
    "$$ y = mx + b $$\n"
   ]
  },
  {
   "cell_type": "markdown",
   "metadata": {},
   "source": [
    "### 3.2.1 Practice with least squares"
   ]
  },
  {
   "cell_type": "markdown",
   "metadata": {},
   "source": [
    "Using the data from section two, follow the five steps of the least squares method to assemble the equation of a line. "
   ]
  },
  {
   "cell_type": "code",
   "execution_count": null,
   "metadata": {},
   "outputs": [],
   "source": [
    "#1. for each point compute x^2 and xy:"
   ]
  },
  {
   "cell_type": "code",
   "execution_count": null,
   "metadata": {},
   "outputs": [],
   "source": [
    "#2. sum all x, y, x2 and xy"
   ]
  },
  {
   "cell_type": "code",
   "execution_count": null,
   "metadata": {},
   "outputs": [],
   "source": [
    "#3. calculate slope\n",
    "# it might be easiest to break this into a few parts\n",
    "# first, let's work the numerator:\n",
    "\n",
    "# next, the denomenator:\n",
    "\n",
    "# finally, the fraction as a whole:"
   ]
  },
  {
   "cell_type": "code",
   "execution_count": null,
   "metadata": {},
   "outputs": [],
   "source": [
    "# 4. calculate y-intercept"
   ]
  },
  {
   "cell_type": "code",
   "execution_count": null,
   "metadata": {},
   "outputs": [],
   "source": [
    "# 5. assemble the equation"
   ]
  },
  {
   "cell_type": "markdown",
   "metadata": {},
   "source": [
    "Great, now we have a line of best fit... built from (almost) hand!"
   ]
  },
  {
   "cell_type": "markdown",
   "metadata": {},
   "source": [
    "### 3.2.2 Scipy example\n",
    "**Submitted by Kevin**\n",
    "\n",
    "So now you've built your own least squares method and used it to fit to your data and you've plotted it and that was awesome but implimenting it was kinda a pain wasn't it? Now that you've gone through this process, you can appreciate the value of programs that do that heavy lifting for you.\n",
    "\n",
    "[Scipy](https://www.scipy.org/) is a self-described \"ecosystem\" of packages and libraries that have a great number of the tools that you will use as a scientist/geologist. In the software world, we would call this a **stack** or series of interdependent programs that build on themselves to perform tasks. Scipy is open source meaning that it is maintained by passionate community memebers invested in it's success. We are going to utilze Scipy to do what we did above in a few lines."
   ]
  },
  {
   "cell_type": "code",
   "execution_count": 3,
   "metadata": {},
   "outputs": [],
   "source": [
    "#Import the library\n",
    "import matplotlib.pyplot as plt\n",
    "import numpy as np #Can be removed because it will be used previously\n",
    "from scipy import stats"
   ]
  },
  {
   "cell_type": "code",
   "execution_count": 8,
   "metadata": {},
   "outputs": [],
   "source": [
    "#Making up some data\n",
    "np.random.seed(12345678) #THIS CAN BE CHANGED TO THE PREVIOUS DATA STRUCTURE EXAMPLES\n",
    "x = np.random.random(10)\n",
    "y = 1.6*x + np.random.random(10)"
   ]
  },
  {
   "cell_type": "code",
   "execution_count": 5,
   "metadata": {},
   "outputs": [
    {
     "name": "stdout",
     "output_type": "stream",
     "text": [
      "slope: 1.944864    intercept: 0.268578\n"
     ]
    }
   ],
   "source": [
    "#Doing all that work in ONE line\n",
    "slope, intercept, r_value, p_value, std_err = stats.linregress(x, y)\n",
    "print(\"slope: %f    intercept: %f\" % (slope, intercept))"
   ]
  },
  {
   "cell_type": "code",
   "execution_count": 6,
   "metadata": {},
   "outputs": [
    {
     "name": "stdout",
     "output_type": "stream",
     "text": [
      "R-squared: 0.735498\n"
     ]
    }
   ],
   "source": [
    "print(\"R-squared: %f\" % r_value**2)"
   ]
  },
  {
   "cell_type": "code",
   "execution_count": 7,
   "metadata": {
    "scrolled": true
   },
   "outputs": [
    {
     "data": {
      "image/png": "[encoded data removed]",
      "text/plain": [
       "<Figure size 432x288 with 1 Axes>"
      ]
     },
     "metadata": {
      "needs_background": "light"
     },
     "output_type": "display_data"
    }
   ],
   "source": [
    "#Using our new plotting skills, lets plot our original data vs our fit\n",
    "plt.plot(x, y, 'o', label='original data')\n",
    "plt.plot(x, intercept + slope*x, 'r', label='fitted line')\n",
    "plt.legend()\n",
    "plt.show()"
   ]
  },
  {
   "cell_type": "markdown",
   "metadata": {},
   "source": [
    "Pretty easy huh?"
   ]
  },
  {
   "cell_type": "markdown",
   "metadata": {},
   "source": [
    "### 3.3 Practice Questions"
   ]
  },
  {
   "cell_type": "markdown",
   "metadata": {},
   "source": [
    "**3.3.1** question text here"
   ]
  },
  {
   "cell_type": "markdown",
   "metadata": {},
   "source": [
    "## 4. Uncertainty and Noise"
   ]
  },
  {
   "cell_type": "markdown",
   "metadata": {},
   "source": [
    "### 4.1 Background\n",
    "**Kevin to submit**"
   ]
  },
  {
   "cell_type": "markdown",
   "metadata": {},
   "source": [
    "### 4.2 Example\n",
    "**Amanda to submit**"
   ]
  },
  {
   "cell_type": "markdown",
   "metadata": {},
   "source": [
    "### 4.3 Practice Questions\n",
    "**Amanda to submit**\n",
    "\n",
    "**4.3.1** question text here"
   ]
  },
  {
   "cell_type": "markdown",
   "metadata": {},
   "source": [
    "## 5. Summary and big picture example: Stable Isotopes of the Carbon Cycle\n",
    "**Kevin to submit**"
   ]
  },
  {
   "cell_type": "markdown",
   "metadata": {},
   "source": [
    "### 5.1 Summary questions\n",
    "**Kevin to submit**"
   ]
  },
  {
   "cell_type": "code",
   "execution_count": null,
   "metadata": {},
   "outputs": [],
   "source": []
  }
 ],
 "metadata": {
  "kernelspec": {
   "display_name": "Python 3",
   "language": "python",
   "name": "python3"
  },
  "language_info": {
   "codemirror_mode": {
    "name": "ipython",
    "version": 3
   },
   "file_extension": ".py",
   "mimetype": "text/x-python",
   "name": "python",
   "nbconvert_exporter": "python",
   "pygments_lexer": "ipython3",
   "version": "3.8.3"
  }
 },
 "nbformat": 4,
 "nbformat_minor": 4
}
