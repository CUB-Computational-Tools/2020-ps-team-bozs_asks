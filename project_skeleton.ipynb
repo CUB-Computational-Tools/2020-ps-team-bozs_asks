{
 "cells": [
  {
   "cell_type": "markdown",
   "metadata": {},
   "source": [
    "# GEOL 3910: draft lesson plan\n",
    "Authors: Amanda Alexander, Tristan Caro, Kevin Rozmiarek\n",
    "\n",
    "Due for GEOL 5042 October 30, 2020"
   ]
  },
  {
   "cell_type": "markdown",
   "metadata": {},
   "source": [
    "### Learning Goals\n",
    "1. numpy arrays v pandas dataframes\n",
    "2. import and use of scipy\n",
    "3. fitting functions for datasets with least-squares method\n",
    "4. describe origins and impacts of uncertainty\n",
    "5. describe anthropogenic causes of incresed carbon emissions"
   ]
  },
  {
   "cell_type": "markdown",
   "metadata": {},
   "source": [
    "### Background\n",
    "1. Stable isotope fractionation [**Tristan**]\n",
    "2. Least-squares method [**Amanda**]\n",
    "3. Uncertainty principles [**Kevin?**]\n",
    "4. Data structures [**Tristan**]"
   ]
  },
  {
   "cell_type": "markdown",
   "metadata": {},
   "source": [
    "### Example\n",
    "Import or build from Boz's Keeling Curve lesson plan (ipynb)"
   ]
  },
  {
   "cell_type": "markdown",
   "metadata": {},
   "source": [
    "### Practice Questions"
   ]
  },
  {
   "cell_type": "markdown",
   "metadata": {},
   "source": [
    "Outline:\n",
    "1. Have students import libraries\n",
    "2. Use least-squares method to derive fitting function [**Amanda**]\n",
    "3. Read in data and plot [**Tristan**]\n",
    "4. Use scipy to get fitting function\n",
    "5. Add noise and compare with noise in fitting function [**Amanda**]\n",
    "6. Discuss uncertainty\n",
    "7. Discuss anthropogenic causes of carbon emissions based on stable isotope fractionation measurements"
   ]
  },
  {
   "cell_type": "code",
   "execution_count": null,
   "metadata": {},
   "outputs": [],
   "source": []
  }
 ],
 "metadata": {
  "kernelspec": {
   "display_name": "Python 3",
   "language": "python",
   "name": "python3"
  },
  "language_info": {
   "codemirror_mode": {
    "name": "ipython",
    "version": 3
   },
   "file_extension": ".py",
   "mimetype": "text/x-python",
   "name": "python",
   "nbconvert_exporter": "python",
   "pygments_lexer": "ipython3",
   "version": "3.8.3"
  }
 },
 "nbformat": 4,
 "nbformat_minor": 4
}
